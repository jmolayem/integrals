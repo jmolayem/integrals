{
 "cells": [
  {
   "cell_type": "markdown",
   "metadata": {},
   "source": [
    "# Integral Evaluation with Monte Carlo Methods"
   ]
  },
  {
   "cell_type": "markdown",
   "metadata": {},
   "source": [
    "This program uses Monte Carlo to estimate the integrals of the following: x, x^2, and sin(pi*x). The upper and lower bounds for these functions will be 1 and 0, respectively. "
   ]
  },
  {
   "cell_type": "code",
   "execution_count": 1,
   "metadata": {
    "collapsed": false
   },
   "outputs": [
    {
     "name": "stdout",
     "output_type": "stream",
     "text": [
      "integral - f(x) = x - [0,1]         :0.50047 \\pm 0.00029\n",
      "integral - f(x) = x**2 - [0,1]      :0.33380 \\pm 0.00030\n",
      "integral - f(x) = sin(x*pi) - [0,1] :0.63661 \\pm 0.00031\n"
     ]
    }
   ],
   "source": [
    "import numpy as np\n",
    "np.random.seed(seed=27) # to obtain reproducible results\n",
    "\n",
    "N = 1000000 # number of samples\n",
    "x = np.random.rand(N) # sample x values uniformly\n",
    "# apply functions\n",
    "f_1 = x\n",
    "f_2 = x**2\n",
    "f_3 = np.sin(x*np.pi)\n",
    "# sum results ( calculate integrals )\n",
    "int_1 = np.sum(f_1)/N\n",
    "int_2 = np.sum(f_2)/N\n",
    "int_3 = np.sum(f_3)/N\n",
    "# estimate errors\n",
    "err_1 = np.std(f_1)/np.sqrt(N)\n",
    "err_2 = np.std(f_2)/np.sqrt(N)\n",
    "err_3 = np.std(f_3)/np.sqrt(N)\n",
    "\n",
    "\n",
    "print \"integral - f(x) = x - [0,1]         :\" \\\n",
    "      \"{:.5f} \\pm {:.5f}\".format(int_1, err_1)\n",
    "print \"integral - f(x) = x**2 - [0,1]      :\" \\\n",
    "      \"{:.5f} \\pm {:.5f}\".format(int_2, err_2)\n",
    "print \"integral - f(x) = sin(x*pi) - [0,1] :\" \\\n",
    "      \"{:.5f} \\pm {:.5f}\".format(int_3, err_3)"
   ]
  },
  {
   "cell_type": "code",
   "execution_count": null,
   "metadata": {
    "collapsed": true
   },
   "outputs": [],
   "source": []
  }
 ],
 "metadata": {
  "kernelspec": {
   "display_name": "Python 2",
   "language": "python",
   "name": "python2"
  },
  "language_info": {
   "codemirror_mode": {
    "name": "ipython",
    "version": 2
   },
   "file_extension": ".py",
   "mimetype": "text/x-python",
   "name": "python",
   "nbconvert_exporter": "python",
   "pygments_lexer": "ipython2",
   "version": "2.7.10"
  }
 },
 "nbformat": 4,
 "nbformat_minor": 0
}
